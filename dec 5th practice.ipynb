{
 "cells": [
  {
   "cell_type": "code",
   "execution_count": 1,
   "id": "8f34dd93",
   "metadata": {},
   "outputs": [],
   "source": [
    "s = \"sudh\""
   ]
  },
  {
   "cell_type": "code",
   "execution_count": 2,
   "id": "916775cb",
   "metadata": {},
   "outputs": [
    {
     "data": {
      "text/plain": [
       "str"
      ]
     },
     "execution_count": 2,
     "metadata": {},
     "output_type": "execute_result"
    }
   ],
   "source": [
    "type(s)"
   ]
  },
  {
   "cell_type": "code",
   "execution_count": 3,
   "id": "8fa5043a",
   "metadata": {},
   "outputs": [
    {
     "data": {
      "text/plain": [
       "'s'"
      ]
     },
     "execution_count": 3,
     "metadata": {},
     "output_type": "execute_result"
    }
   ],
   "source": [
    "s[0]"
   ]
  },
  {
   "cell_type": "code",
   "execution_count": 4,
   "id": "2a88ec4e",
   "metadata": {},
   "outputs": [
    {
     "data": {
      "text/plain": [
       "'u'"
      ]
     },
     "execution_count": 4,
     "metadata": {},
     "output_type": "execute_result"
    }
   ],
   "source": [
    "s[1]"
   ]
  },
  {
   "cell_type": "code",
   "execution_count": 5,
   "id": "5b61bd54",
   "metadata": {},
   "outputs": [
    {
     "data": {
      "text/plain": [
       "'d'"
      ]
     },
     "execution_count": 5,
     "metadata": {},
     "output_type": "execute_result"
    }
   ],
   "source": [
    "s[2]"
   ]
  },
  {
   "cell_type": "code",
   "execution_count": 6,
   "id": "7083ae95",
   "metadata": {},
   "outputs": [
    {
     "data": {
      "text/plain": [
       "'h'"
      ]
     },
     "execution_count": 6,
     "metadata": {},
     "output_type": "execute_result"
    }
   ],
   "source": [
    "s[3]"
   ]
  },
  {
   "cell_type": "code",
   "execution_count": 7,
   "id": "bed2934b",
   "metadata": {},
   "outputs": [
    {
     "data": {
      "text/plain": [
       "'h'"
      ]
     },
     "execution_count": 7,
     "metadata": {},
     "output_type": "execute_result"
    }
   ],
   "source": [
    "s[-1]"
   ]
  },
  {
   "cell_type": "code",
   "execution_count": 8,
   "id": "b08b2d7e",
   "metadata": {},
   "outputs": [
    {
     "data": {
      "text/plain": [
       "'d'"
      ]
     },
     "execution_count": 8,
     "metadata": {},
     "output_type": "execute_result"
    }
   ],
   "source": [
    "s[-2]"
   ]
  },
  {
   "cell_type": "code",
   "execution_count": 9,
   "id": "06712a01",
   "metadata": {},
   "outputs": [
    {
     "data": {
      "text/plain": [
       "'u'"
      ]
     },
     "execution_count": 9,
     "metadata": {},
     "output_type": "execute_result"
    }
   ],
   "source": [
    "s[-3]"
   ]
  },
  {
   "cell_type": "code",
   "execution_count": 10,
   "id": "a60885bc",
   "metadata": {},
   "outputs": [
    {
     "data": {
      "text/plain": [
       "'s'"
      ]
     },
     "execution_count": 10,
     "metadata": {},
     "output_type": "execute_result"
    }
   ],
   "source": [
    "s[-4]"
   ]
  },
  {
   "cell_type": "code",
   "execution_count": 11,
   "id": "7759896c",
   "metadata": {},
   "outputs": [],
   "source": [
    "a = \"my name is raj arajeswari\""
   ]
  },
  {
   "cell_type": "code",
   "execution_count": 12,
   "id": "70a5279d",
   "metadata": {},
   "outputs": [
    {
     "data": {
      "text/plain": [
       "'i'"
      ]
     },
     "execution_count": 12,
     "metadata": {},
     "output_type": "execute_result"
    }
   ],
   "source": [
    "a[-1]"
   ]
  },
  {
   "cell_type": "code",
   "execution_count": 13,
   "id": "4a736ac4",
   "metadata": {},
   "outputs": [
    {
     "data": {
      "text/plain": [
       "'m'"
      ]
     },
     "execution_count": 13,
     "metadata": {},
     "output_type": "execute_result"
    }
   ],
   "source": [
    "a[0]"
   ]
  },
  {
   "cell_type": "code",
   "execution_count": 14,
   "id": "c94d04d5",
   "metadata": {},
   "outputs": [
    {
     "data": {
      "text/plain": [
       "'n'"
      ]
     },
     "execution_count": 14,
     "metadata": {},
     "output_type": "execute_result"
    }
   ],
   "source": [
    "a[3]"
   ]
  },
  {
   "cell_type": "code",
   "execution_count": 15,
   "id": "2a9f9995",
   "metadata": {},
   "outputs": [
    {
     "data": {
      "text/plain": [
       "' '"
      ]
     },
     "execution_count": 15,
     "metadata": {},
     "output_type": "execute_result"
    }
   ],
   "source": [
    "a[2]"
   ]
  },
  {
   "cell_type": "code",
   "execution_count": 16,
   "id": "ceb261a0",
   "metadata": {},
   "outputs": [
    {
     "data": {
      "text/plain": [
       "'my name is raj arajeswari'"
      ]
     },
     "execution_count": 16,
     "metadata": {},
     "output_type": "execute_result"
    }
   ],
   "source": [
    "a"
   ]
  },
  {
   "cell_type": "code",
   "execution_count": 17,
   "id": "03e5e0f0",
   "metadata": {},
   "outputs": [
    {
     "data": {
      "text/plain": [
       "'my name is'"
      ]
     },
     "execution_count": 17,
     "metadata": {},
     "output_type": "execute_result"
    }
   ],
   "source": [
    "a[0:10]"
   ]
  },
  {
   "cell_type": "code",
   "execution_count": 18,
   "id": "2d10ba16",
   "metadata": {},
   "outputs": [
    {
     "data": {
      "text/plain": [
       "'my name is raj arajeswari'"
      ]
     },
     "execution_count": 18,
     "metadata": {},
     "output_type": "execute_result"
    }
   ],
   "source": [
    "a[0:100]"
   ]
  },
  {
   "cell_type": "code",
   "execution_count": 19,
   "id": "02543656",
   "metadata": {},
   "outputs": [
    {
     "data": {
      "text/plain": [
       "'name is'"
      ]
     },
     "execution_count": 19,
     "metadata": {},
     "output_type": "execute_result"
    }
   ],
   "source": [
    "a[3:10]"
   ]
  },
  {
   "cell_type": "code",
   "execution_count": 20,
   "id": "5c487bac",
   "metadata": {},
   "outputs": [
    {
     "data": {
      "text/plain": [
       "'ame is raj '"
      ]
     },
     "execution_count": 20,
     "metadata": {},
     "output_type": "execute_result"
    }
   ],
   "source": [
    "a[4:15]"
   ]
  },
  {
   "cell_type": "code",
   "execution_count": 21,
   "id": "d7deebc4",
   "metadata": {},
   "outputs": [
    {
     "data": {
      "text/plain": [
       "'my name is raj arajeswari'"
      ]
     },
     "execution_count": 21,
     "metadata": {},
     "output_type": "execute_result"
    }
   ],
   "source": [
    "a[0:28]"
   ]
  },
  {
   "cell_type": "code",
   "execution_count": 22,
   "id": "03bb96ac",
   "metadata": {},
   "outputs": [
    {
     "data": {
      "text/plain": [
       "'i'"
      ]
     },
     "execution_count": 22,
     "metadata": {},
     "output_type": "execute_result"
    }
   ],
   "source": [
    "a[-1]"
   ]
  },
  {
   "cell_type": "code",
   "execution_count": 23,
   "id": "f67bbf4d",
   "metadata": {},
   "outputs": [
    {
     "data": {
      "text/plain": [
       "''"
      ]
     },
     "execution_count": 23,
     "metadata": {},
     "output_type": "execute_result"
    }
   ],
   "source": [
    "a[-1:-4]"
   ]
  },
  {
   "cell_type": "code",
   "execution_count": 24,
   "id": "f8ee64b0",
   "metadata": {},
   "outputs": [
    {
     "data": {
      "text/plain": [
       "'war'"
      ]
     },
     "execution_count": 24,
     "metadata": {},
     "output_type": "execute_result"
    }
   ],
   "source": [
    "a[-4:-1]"
   ]
  },
  {
   "cell_type": "code",
   "execution_count": 25,
   "id": "23d7dd21",
   "metadata": {},
   "outputs": [
    {
     "ename": "IndexError",
     "evalue": "string index out of range",
     "output_type": "error",
     "traceback": [
      "\u001b[1;31m---------------------------------------------------------------------------\u001b[0m",
      "\u001b[1;31mIndexError\u001b[0m                                Traceback (most recent call last)",
      "\u001b[1;32m~\\AppData\\Local\\Temp/ipykernel_13760/3007147969.py\u001b[0m in \u001b[0;36m<module>\u001b[1;34m\u001b[0m\n\u001b[1;32m----> 1\u001b[1;33m \u001b[0ma\u001b[0m\u001b[1;33m[\u001b[0m\u001b[1;33m-\u001b[0m\u001b[1;36m29\u001b[0m\u001b[1;33m]\u001b[0m\u001b[1;33m\u001b[0m\u001b[1;33m\u001b[0m\u001b[0m\n\u001b[0m",
      "\u001b[1;31mIndexError\u001b[0m: string index out of range"
     ]
    }
   ],
   "source": [
    "a[-29]"
   ]
  },
  {
   "cell_type": "code",
   "execution_count": 26,
   "id": "012c2d3d",
   "metadata": {},
   "outputs": [
    {
     "data": {
      "text/plain": [
       "''"
      ]
     },
     "execution_count": 26,
     "metadata": {},
     "output_type": "execute_result"
    }
   ],
   "source": [
    "a[-2:-5]"
   ]
  },
  {
   "cell_type": "code",
   "execution_count": 27,
   "id": "a0498381",
   "metadata": {},
   "outputs": [
    {
     "data": {
      "text/plain": [
       "'rajesw'"
      ]
     },
     "execution_count": 27,
     "metadata": {},
     "output_type": "execute_result"
    }
   ],
   "source": [
    "a[-9:-3]"
   ]
  },
  {
   "cell_type": "code",
   "execution_count": 28,
   "id": "1ad0c840",
   "metadata": {},
   "outputs": [],
   "source": [
    "c=\"sanviseivi\""
   ]
  },
  {
   "cell_type": "code",
   "execution_count": 29,
   "id": "3181e06f",
   "metadata": {},
   "outputs": [
    {
     "data": {
      "text/plain": [
       "'san'"
      ]
     },
     "execution_count": 29,
     "metadata": {},
     "output_type": "execute_result"
    }
   ],
   "source": [
    "c[0:3]"
   ]
  },
  {
   "cell_type": "code",
   "execution_count": 30,
   "id": "17399c2c",
   "metadata": {},
   "outputs": [
    {
     "data": {
      "text/plain": [
       "'nvis'"
      ]
     },
     "execution_count": 30,
     "metadata": {},
     "output_type": "execute_result"
    }
   ],
   "source": [
    "c[2:6]"
   ]
  },
  {
   "cell_type": "code",
   "execution_count": 31,
   "id": "389f32e6",
   "metadata": {},
   "outputs": [
    {
     "data": {
      "text/plain": [
       "'visei'"
      ]
     },
     "execution_count": 31,
     "metadata": {},
     "output_type": "execute_result"
    }
   ],
   "source": [
    "c[3:-2]"
   ]
  },
  {
   "cell_type": "code",
   "execution_count": 32,
   "id": "5fa759a3",
   "metadata": {},
   "outputs": [
    {
     "data": {
      "text/plain": [
       "''"
      ]
     },
     "execution_count": 32,
     "metadata": {},
     "output_type": "execute_result"
    }
   ],
   "source": [
    "c[3:-9]"
   ]
  },
  {
   "cell_type": "code",
   "execution_count": 33,
   "id": "3e0debd4",
   "metadata": {},
   "outputs": [
    {
     "data": {
      "text/plain": [
       "'sanviseivi'"
      ]
     },
     "execution_count": 33,
     "metadata": {},
     "output_type": "execute_result"
    }
   ],
   "source": [
    "c[0:10]"
   ]
  },
  {
   "cell_type": "code",
   "execution_count": 34,
   "id": "845bdbd2",
   "metadata": {},
   "outputs": [
    {
     "data": {
      "text/plain": [
       "'sanviseivi'"
      ]
     },
     "execution_count": 34,
     "metadata": {},
     "output_type": "execute_result"
    }
   ],
   "source": [
    "c[0:10:1]"
   ]
  },
  {
   "cell_type": "code",
   "execution_count": 35,
   "id": "bfcb59b5",
   "metadata": {},
   "outputs": [
    {
     "data": {
      "text/plain": [
       "'sniev'"
      ]
     },
     "execution_count": 35,
     "metadata": {},
     "output_type": "execute_result"
    }
   ],
   "source": [
    "c[0:10:2]"
   ]
  },
  {
   "cell_type": "code",
   "execution_count": 36,
   "id": "a03ed02b",
   "metadata": {},
   "outputs": [
    {
     "data": {
      "text/plain": [
       "''"
      ]
     },
     "execution_count": 36,
     "metadata": {},
     "output_type": "execute_result"
    }
   ],
   "source": [
    "c[1:10:-2]"
   ]
  },
  {
   "cell_type": "code",
   "execution_count": 37,
   "id": "393e866f",
   "metadata": {},
   "outputs": [
    {
     "data": {
      "text/plain": [
       "'vei'"
      ]
     },
     "execution_count": 37,
     "metadata": {},
     "output_type": "execute_result"
    }
   ],
   "source": [
    "c[3:10:3]"
   ]
  },
  {
   "cell_type": "code",
   "execution_count": 38,
   "id": "e09a7fc6",
   "metadata": {},
   "outputs": [
    {
     "data": {
      "text/plain": [
       "''"
      ]
     },
     "execution_count": 38,
     "metadata": {},
     "output_type": "execute_result"
    }
   ],
   "source": [
    "c[2:10:-1]"
   ]
  },
  {
   "cell_type": "code",
   "execution_count": 39,
   "id": "05293254",
   "metadata": {},
   "outputs": [
    {
     "data": {
      "text/plain": [
       "'sanviseivi'"
      ]
     },
     "execution_count": 39,
     "metadata": {},
     "output_type": "execute_result"
    }
   ],
   "source": [
    "c[ : : ]"
   ]
  },
  {
   "cell_type": "code",
   "execution_count": 40,
   "id": "7cb7d1e7",
   "metadata": {},
   "outputs": [
    {
     "data": {
      "text/plain": [
       "'iviesivnas'"
      ]
     },
     "execution_count": 40,
     "metadata": {},
     "output_type": "execute_result"
    }
   ],
   "source": [
    "c[ : :-1]"
   ]
  },
  {
   "cell_type": "code",
   "execution_count": 41,
   "id": "8fc0600a",
   "metadata": {},
   "outputs": [
    {
     "data": {
      "text/plain": [
       "'i'"
      ]
     },
     "execution_count": 41,
     "metadata": {},
     "output_type": "execute_result"
    }
   ],
   "source": [
    "c[-1: :1]"
   ]
  },
  {
   "cell_type": "code",
   "execution_count": 42,
   "id": "3424e6be",
   "metadata": {},
   "outputs": [
    {
     "data": {
      "text/plain": [
       "''"
      ]
     },
     "execution_count": 42,
     "metadata": {},
     "output_type": "execute_result"
    }
   ],
   "source": [
    "c[-2:-8:1]"
   ]
  },
  {
   "cell_type": "code",
   "execution_count": 43,
   "id": "0ef4b72f",
   "metadata": {},
   "outputs": [
    {
     "data": {
      "text/plain": [
       "'viesiv'"
      ]
     },
     "execution_count": 43,
     "metadata": {},
     "output_type": "execute_result"
    }
   ],
   "source": [
    "c[-2:-8:-1]"
   ]
  },
  {
   "cell_type": "code",
   "execution_count": 44,
   "id": "ecc8850a",
   "metadata": {},
   "outputs": [
    {
     "data": {
      "text/plain": [
       "'sanviseivi'"
      ]
     },
     "execution_count": 44,
     "metadata": {},
     "output_type": "execute_result"
    }
   ],
   "source": [
    "c[ :10:1]"
   ]
  },
  {
   "cell_type": "code",
   "execution_count": 45,
   "id": "ca369d47",
   "metadata": {},
   "outputs": [
    {
     "data": {
      "text/plain": [
       "'sniev'"
      ]
     },
     "execution_count": 45,
     "metadata": {},
     "output_type": "execute_result"
    }
   ],
   "source": [
    "c[ : :2]"
   ]
  },
  {
   "cell_type": "code",
   "execution_count": 46,
   "id": "d9d4f3b2",
   "metadata": {},
   "outputs": [
    {
     "data": {
      "text/plain": [
       "'iviesivnas'"
      ]
     },
     "execution_count": 46,
     "metadata": {},
     "output_type": "execute_result"
    }
   ],
   "source": [
    "c[-1: :-1]"
   ]
  },
  {
   "cell_type": "code",
   "execution_count": 47,
   "id": "a54f7c02",
   "metadata": {},
   "outputs": [
    {
     "data": {
      "text/plain": [
       "'nviseiv'"
      ]
     },
     "execution_count": 47,
     "metadata": {},
     "output_type": "execute_result"
    }
   ],
   "source": [
    "c[-8:-1:1]"
   ]
  },
  {
   "cell_type": "code",
   "execution_count": 48,
   "id": "78456a32",
   "metadata": {},
   "outputs": [
    {
     "data": {
      "text/plain": [
       "''"
      ]
     },
     "execution_count": 48,
     "metadata": {},
     "output_type": "execute_result"
    }
   ],
   "source": [
    "c[-5:5]"
   ]
  },
  {
   "cell_type": "code",
   "execution_count": 49,
   "id": "47036654",
   "metadata": {},
   "outputs": [
    {
     "data": {
      "text/plain": [
       "''"
      ]
     },
     "execution_count": 49,
     "metadata": {},
     "output_type": "execute_result"
    }
   ],
   "source": [
    "c[-5:5:-1]"
   ]
  },
  {
   "cell_type": "code",
   "execution_count": 50,
   "id": "7b9bde9d",
   "metadata": {},
   "outputs": [
    {
     "data": {
      "text/plain": [
       "'viesiv'"
      ]
     },
     "execution_count": 50,
     "metadata": {},
     "output_type": "execute_result"
    }
   ],
   "source": [
    "c[-2:2:-1]"
   ]
  },
  {
   "cell_type": "code",
   "execution_count": 51,
   "id": "6ebcdf33",
   "metadata": {},
   "outputs": [
    {
     "data": {
      "text/plain": [
       "'svei'"
      ]
     },
     "execution_count": 51,
     "metadata": {},
     "output_type": "execute_result"
    }
   ],
   "source": [
    "c[0:10:3]"
   ]
  },
  {
   "cell_type": "code",
   "execution_count": 52,
   "id": "5ab5303a",
   "metadata": {},
   "outputs": [
    {
     "data": {
      "text/plain": [
       "'rajirajiraji'"
      ]
     },
     "execution_count": 52,
     "metadata": {},
     "output_type": "execute_result"
    }
   ],
   "source": [
    "\"raji\"*3"
   ]
  },
  {
   "cell_type": "code",
   "execution_count": 53,
   "id": "4aab406c",
   "metadata": {},
   "outputs": [
    {
     "ename": "TypeError",
     "evalue": "can't multiply sequence by non-int of type 'str'",
     "output_type": "error",
     "traceback": [
      "\u001b[1;31m---------------------------------------------------------------------------\u001b[0m",
      "\u001b[1;31mTypeError\u001b[0m                                 Traceback (most recent call last)",
      "\u001b[1;32m~\\AppData\\Local\\Temp/ipykernel_13760/2001266873.py\u001b[0m in \u001b[0;36m<module>\u001b[1;34m\u001b[0m\n\u001b[1;32m----> 1\u001b[1;33m \u001b[1;34m\"raji\"\u001b[0m\u001b[1;33m*\u001b[0m\u001b[1;34m\"raji\"\u001b[0m\u001b[1;33m\u001b[0m\u001b[1;33m\u001b[0m\u001b[0m\n\u001b[0m",
      "\u001b[1;31mTypeError\u001b[0m: can't multiply sequence by non-int of type 'str'"
     ]
    }
   ],
   "source": [
    "\"raji\"*\"raji\""
   ]
  },
  {
   "cell_type": "code",
   "execution_count": 54,
   "id": "161054e9",
   "metadata": {},
   "outputs": [
    {
     "data": {
      "text/plain": [
       "'rajirajirajiraji'"
      ]
     },
     "execution_count": 54,
     "metadata": {},
     "output_type": "execute_result"
    }
   ],
   "source": [
    "4*\"raji\""
   ]
  },
  {
   "cell_type": "code",
   "execution_count": 55,
   "id": "fbcd0b9d",
   "metadata": {},
   "outputs": [
    {
     "data": {
      "text/plain": [
       "'rajarajeswari'"
      ]
     },
     "execution_count": 55,
     "metadata": {},
     "output_type": "execute_result"
    }
   ],
   "source": [
    "\"raja\"+\"rajeswari\""
   ]
  },
  {
   "cell_type": "code",
   "execution_count": 56,
   "id": "9d9a80f1",
   "metadata": {},
   "outputs": [],
   "source": [
    "c=\"raja\"+\"rajeswari\""
   ]
  },
  {
   "cell_type": "code",
   "execution_count": 57,
   "id": "439706e0",
   "metadata": {},
   "outputs": [
    {
     "data": {
      "text/plain": [
       "'rajarajeswari'"
      ]
     },
     "execution_count": 57,
     "metadata": {},
     "output_type": "execute_result"
    }
   ],
   "source": [
    "c"
   ]
  },
  {
   "cell_type": "code",
   "execution_count": 58,
   "id": "206b00ae",
   "metadata": {},
   "outputs": [
    {
     "data": {
      "text/plain": [
       "13"
      ]
     },
     "execution_count": 58,
     "metadata": {},
     "output_type": "execute_result"
    }
   ],
   "source": [
    "len(c)"
   ]
  },
  {
   "cell_type": "code",
   "execution_count": 59,
   "id": "1f0e8518",
   "metadata": {},
   "outputs": [],
   "source": [
    "d=\"raji\""
   ]
  },
  {
   "cell_type": "code",
   "execution_count": 60,
   "id": "e5988224",
   "metadata": {},
   "outputs": [
    {
     "data": {
      "text/plain": [
       "4"
      ]
     },
     "execution_count": 60,
     "metadata": {},
     "output_type": "execute_result"
    }
   ],
   "source": [
    "len(d)"
   ]
  },
  {
   "cell_type": "code",
   "execution_count": 61,
   "id": "f89bc571",
   "metadata": {},
   "outputs": [
    {
     "ename": "TypeError",
     "evalue": "'str' object is not callable",
     "output_type": "error",
     "traceback": [
      "\u001b[1;31m---------------------------------------------------------------------------\u001b[0m",
      "\u001b[1;31mTypeError\u001b[0m                                 Traceback (most recent call last)",
      "\u001b[1;32m~\\AppData\\Local\\Temp/ipykernel_13760/3846803945.py\u001b[0m in \u001b[0;36m<module>\u001b[1;34m\u001b[0m\n\u001b[1;32m----> 1\u001b[1;33m \u001b[0md\u001b[0m\u001b[1;33m(\u001b[0m\u001b[1;36m1\u001b[0m\u001b[1;33m)\u001b[0m\u001b[1;33m\u001b[0m\u001b[1;33m\u001b[0m\u001b[0m\n\u001b[0m",
      "\u001b[1;31mTypeError\u001b[0m: 'str' object is not callable"
     ]
    }
   ],
   "source": [
    "d(1)"
   ]
  },
  {
   "cell_type": "code",
   "execution_count": 62,
   "id": "ef753fd1",
   "metadata": {},
   "outputs": [
    {
     "data": {
      "text/plain": [
       "'r'"
      ]
     },
     "execution_count": 62,
     "metadata": {},
     "output_type": "execute_result"
    }
   ],
   "source": [
    "d[0]"
   ]
  },
  {
   "cell_type": "code",
   "execution_count": 63,
   "id": "05f3d100",
   "metadata": {},
   "outputs": [],
   "source": [
    "c=\"nagasanvinagaseivi\""
   ]
  },
  {
   "cell_type": "code",
   "execution_count": 64,
   "id": "50352cd0",
   "metadata": {},
   "outputs": [
    {
     "data": {
      "text/plain": [
       "18"
      ]
     },
     "execution_count": 64,
     "metadata": {},
     "output_type": "execute_result"
    }
   ],
   "source": [
    "len(c)"
   ]
  },
  {
   "cell_type": "code",
   "execution_count": 66,
   "id": "f74f62ff",
   "metadata": {},
   "outputs": [
    {
     "data": {
      "text/plain": [
       "4"
      ]
     },
     "execution_count": 66,
     "metadata": {},
     "output_type": "execute_result"
    }
   ],
   "source": [
    "c.find('s')"
   ]
  },
  {
   "cell_type": "code",
   "execution_count": 67,
   "id": "2adb3ace",
   "metadata": {},
   "outputs": [
    {
     "data": {
      "text/plain": [
       "0"
      ]
     },
     "execution_count": 67,
     "metadata": {},
     "output_type": "execute_result"
    }
   ],
   "source": [
    "c.find('n')"
   ]
  },
  {
   "cell_type": "code",
   "execution_count": 68,
   "id": "cc9c1773",
   "metadata": {},
   "outputs": [
    {
     "data": {
      "text/plain": [
       "5"
      ]
     },
     "execution_count": 68,
     "metadata": {},
     "output_type": "execute_result"
    }
   ],
   "source": [
    "c.count('a')"
   ]
  },
  {
   "cell_type": "code",
   "execution_count": 69,
   "id": "4b4eec2a",
   "metadata": {},
   "outputs": [
    {
     "data": {
      "text/plain": [
       "7"
      ]
     },
     "execution_count": 69,
     "metadata": {},
     "output_type": "execute_result"
    }
   ],
   "source": [
    "c.find('v')"
   ]
  },
  {
   "cell_type": "code",
   "execution_count": 70,
   "id": "a8c7ac60",
   "metadata": {},
   "outputs": [
    {
     "data": {
      "text/plain": [
       "14"
      ]
     },
     "execution_count": 70,
     "metadata": {},
     "output_type": "execute_result"
    }
   ],
   "source": [
    "c.find('e')"
   ]
  },
  {
   "cell_type": "code",
   "execution_count": 71,
   "id": "65ba53cd",
   "metadata": {},
   "outputs": [
    {
     "data": {
      "text/plain": [
       "8"
      ]
     },
     "execution_count": 71,
     "metadata": {},
     "output_type": "execute_result"
    }
   ],
   "source": [
    "c.find('i')"
   ]
  },
  {
   "cell_type": "code",
   "execution_count": 72,
   "id": "b124722e",
   "metadata": {},
   "outputs": [
    {
     "data": {
      "text/plain": [
       "2"
      ]
     },
     "execution_count": 72,
     "metadata": {},
     "output_type": "execute_result"
    }
   ],
   "source": [
    "c.count('s')"
   ]
  },
  {
   "cell_type": "code",
   "execution_count": 73,
   "id": "627e4252",
   "metadata": {},
   "outputs": [
    {
     "data": {
      "text/plain": [
       "5"
      ]
     },
     "execution_count": 73,
     "metadata": {},
     "output_type": "execute_result"
    }
   ],
   "source": [
    "c.count('a')"
   ]
  },
  {
   "cell_type": "code",
   "execution_count": 74,
   "id": "7b31b030",
   "metadata": {},
   "outputs": [
    {
     "data": {
      "text/plain": [
       "3"
      ]
     },
     "execution_count": 74,
     "metadata": {},
     "output_type": "execute_result"
    }
   ],
   "source": [
    "c.count('n')"
   ]
  },
  {
   "cell_type": "code",
   "execution_count": 75,
   "id": "c9771b0e",
   "metadata": {},
   "outputs": [
    {
     "data": {
      "text/plain": [
       "3"
      ]
     },
     "execution_count": 75,
     "metadata": {},
     "output_type": "execute_result"
    }
   ],
   "source": [
    "c.count('i')"
   ]
  },
  {
   "cell_type": "code",
   "execution_count": 76,
   "id": "9aecf1e6",
   "metadata": {},
   "outputs": [
    {
     "data": {
      "text/plain": [
       "2"
      ]
     },
     "execution_count": 76,
     "metadata": {},
     "output_type": "execute_result"
    }
   ],
   "source": [
    "c.count('v')"
   ]
  },
  {
   "cell_type": "code",
   "execution_count": 77,
   "id": "457bedd7",
   "metadata": {},
   "outputs": [
    {
     "data": {
      "text/plain": [
       "0"
      ]
     },
     "execution_count": 77,
     "metadata": {},
     "output_type": "execute_result"
    }
   ],
   "source": [
    "c.count('x')"
   ]
  },
  {
   "cell_type": "code",
   "execution_count": 78,
   "id": "0b417ce6",
   "metadata": {},
   "outputs": [
    {
     "data": {
      "text/plain": [
       "'nagasanvinagaseivi'"
      ]
     },
     "execution_count": 78,
     "metadata": {},
     "output_type": "execute_result"
    }
   ],
   "source": [
    "c"
   ]
  },
  {
   "cell_type": "code",
   "execution_count": 79,
   "id": "77801172",
   "metadata": {},
   "outputs": [],
   "source": [
    "a = \"raji pavan sanvi seivi\""
   ]
  },
  {
   "cell_type": "code",
   "execution_count": 80,
   "id": "7b38b99d",
   "metadata": {},
   "outputs": [
    {
     "data": {
      "text/plain": [
       "['raji', 'pavan', 'sanvi', 'seivi']"
      ]
     },
     "execution_count": 80,
     "metadata": {},
     "output_type": "execute_result"
    }
   ],
   "source": [
    "a.split()"
   ]
  },
  {
   "cell_type": "code",
   "execution_count": 81,
   "id": "1dba81db",
   "metadata": {},
   "outputs": [
    {
     "data": {
      "text/plain": [
       "list"
      ]
     },
     "execution_count": 81,
     "metadata": {},
     "output_type": "execute_result"
    }
   ],
   "source": [
    "type(a.split())"
   ]
  },
  {
   "cell_type": "code",
   "execution_count": 82,
   "id": "8d29a388",
   "metadata": {},
   "outputs": [],
   "source": [
    "b=\"23 24 25 26\""
   ]
  },
  {
   "cell_type": "code",
   "execution_count": 83,
   "id": "6e9dda71",
   "metadata": {},
   "outputs": [
    {
     "data": {
      "text/plain": [
       "['23', '24', '25', '26']"
      ]
     },
     "execution_count": 83,
     "metadata": {},
     "output_type": "execute_result"
    }
   ],
   "source": [
    "b.split()"
   ]
  },
  {
   "cell_type": "code",
   "execution_count": 84,
   "id": "b7c3d549",
   "metadata": {},
   "outputs": [
    {
     "data": {
      "text/plain": [
       "list"
      ]
     },
     "execution_count": 84,
     "metadata": {},
     "output_type": "execute_result"
    }
   ],
   "source": [
    "type(b.split())"
   ]
  },
  {
   "cell_type": "code",
   "execution_count": 85,
   "id": "7ce1b878",
   "metadata": {},
   "outputs": [],
   "source": [
    "l=a.split()"
   ]
  },
  {
   "cell_type": "code",
   "execution_count": 86,
   "id": "ce4d3b53",
   "metadata": {},
   "outputs": [
    {
     "data": {
      "text/plain": [
       "['raji', 'pavan', 'sanvi', 'seivi']"
      ]
     },
     "execution_count": 86,
     "metadata": {},
     "output_type": "execute_result"
    }
   ],
   "source": [
    "l"
   ]
  },
  {
   "cell_type": "code",
   "execution_count": 87,
   "id": "8b7a2fdd",
   "metadata": {},
   "outputs": [
    {
     "data": {
      "text/plain": [
       "'raji'"
      ]
     },
     "execution_count": 87,
     "metadata": {},
     "output_type": "execute_result"
    }
   ],
   "source": [
    "l[0]"
   ]
  },
  {
   "cell_type": "code",
   "execution_count": 88,
   "id": "26296c3f",
   "metadata": {},
   "outputs": [
    {
     "data": {
      "text/plain": [
       "'pavan'"
      ]
     },
     "execution_count": 88,
     "metadata": {},
     "output_type": "execute_result"
    }
   ],
   "source": [
    "l[1]"
   ]
  },
  {
   "cell_type": "code",
   "execution_count": 89,
   "id": "5fafdd67",
   "metadata": {},
   "outputs": [
    {
     "data": {
      "text/plain": [
       "'sanvi'"
      ]
     },
     "execution_count": 89,
     "metadata": {},
     "output_type": "execute_result"
    }
   ],
   "source": [
    "l[2]"
   ]
  },
  {
   "cell_type": "code",
   "execution_count": 90,
   "id": "b6f9148d",
   "metadata": {},
   "outputs": [
    {
     "data": {
      "text/plain": [
       "'seivi'"
      ]
     },
     "execution_count": 90,
     "metadata": {},
     "output_type": "execute_result"
    }
   ],
   "source": [
    "l[3]"
   ]
  },
  {
   "cell_type": "code",
   "execution_count": 91,
   "id": "a943a545",
   "metadata": {},
   "outputs": [
    {
     "data": {
      "text/plain": [
       "'seivi'"
      ]
     },
     "execution_count": 91,
     "metadata": {},
     "output_type": "execute_result"
    }
   ],
   "source": [
    "l[-1]"
   ]
  },
  {
   "cell_type": "code",
   "execution_count": 92,
   "id": "3db54625",
   "metadata": {},
   "outputs": [
    {
     "data": {
      "text/plain": [
       "'sanvi'"
      ]
     },
     "execution_count": 92,
     "metadata": {},
     "output_type": "execute_result"
    }
   ],
   "source": [
    "l[-2]"
   ]
  },
  {
   "cell_type": "code",
   "execution_count": 93,
   "id": "ee31de2b",
   "metadata": {},
   "outputs": [
    {
     "data": {
      "text/plain": [
       "'pavan'"
      ]
     },
     "execution_count": 93,
     "metadata": {},
     "output_type": "execute_result"
    }
   ],
   "source": [
    "l[-3]"
   ]
  },
  {
   "cell_type": "code",
   "execution_count": 94,
   "id": "b039932c",
   "metadata": {},
   "outputs": [
    {
     "ename": "IndexError",
     "evalue": "list index out of range",
     "output_type": "error",
     "traceback": [
      "\u001b[1;31m---------------------------------------------------------------------------\u001b[0m",
      "\u001b[1;31mIndexError\u001b[0m                                Traceback (most recent call last)",
      "\u001b[1;32m~\\AppData\\Local\\Temp/ipykernel_13760/1336175236.py\u001b[0m in \u001b[0;36m<module>\u001b[1;34m\u001b[0m\n\u001b[1;32m----> 1\u001b[1;33m \u001b[0ml\u001b[0m\u001b[1;33m[\u001b[0m\u001b[1;33m-\u001b[0m\u001b[1;36m5\u001b[0m\u001b[1;33m]\u001b[0m\u001b[1;33m\u001b[0m\u001b[1;33m\u001b[0m\u001b[0m\n\u001b[0m",
      "\u001b[1;31mIndexError\u001b[0m: list index out of range"
     ]
    }
   ],
   "source": [
    "l[-5]"
   ]
  },
  {
   "cell_type": "code",
   "execution_count": 95,
   "id": "c17c78ae",
   "metadata": {},
   "outputs": [
    {
     "data": {
      "text/plain": [
       "['raji', 'pavan', 'sanvi']"
      ]
     },
     "execution_count": 95,
     "metadata": {},
     "output_type": "execute_result"
    }
   ],
   "source": [
    "l[0:3]"
   ]
  },
  {
   "cell_type": "code",
   "execution_count": 96,
   "id": "f281cf5e",
   "metadata": {},
   "outputs": [
    {
     "data": {
      "text/plain": [
       "['raji', 'pavan', 'sanvi', 'seivi']"
      ]
     },
     "execution_count": 96,
     "metadata": {},
     "output_type": "execute_result"
    }
   ],
   "source": [
    "l[0:4]"
   ]
  },
  {
   "cell_type": "code",
   "execution_count": 97,
   "id": "c77c6174",
   "metadata": {},
   "outputs": [
    {
     "data": {
      "text/plain": [
       "['sanvi', 'seivi']"
      ]
     },
     "execution_count": 97,
     "metadata": {},
     "output_type": "execute_result"
    }
   ],
   "source": [
    "l[2:4]"
   ]
  },
  {
   "cell_type": "code",
   "execution_count": 98,
   "id": "45c28a97",
   "metadata": {},
   "outputs": [
    {
     "data": {
      "text/plain": [
       "['raji', 'pavan', 'sanvi', 'seivi']"
      ]
     },
     "execution_count": 98,
     "metadata": {},
     "output_type": "execute_result"
    }
   ],
   "source": [
    "l[0:100]"
   ]
  },
  {
   "cell_type": "code",
   "execution_count": 99,
   "id": "a92eb54f",
   "metadata": {},
   "outputs": [
    {
     "ename": "AttributeError",
     "evalue": "'list' object has no attribute 'split'",
     "output_type": "error",
     "traceback": [
      "\u001b[1;31m---------------------------------------------------------------------------\u001b[0m",
      "\u001b[1;31mAttributeError\u001b[0m                            Traceback (most recent call last)",
      "\u001b[1;32m~\\AppData\\Local\\Temp/ipykernel_13760/4019733018.py\u001b[0m in \u001b[0;36m<module>\u001b[1;34m\u001b[0m\n\u001b[1;32m----> 1\u001b[1;33m \u001b[0ml\u001b[0m\u001b[1;33m.\u001b[0m\u001b[0msplit\u001b[0m\u001b[1;33m(\u001b[0m\u001b[1;34m'r'\u001b[0m\u001b[1;33m)\u001b[0m\u001b[1;33m\u001b[0m\u001b[1;33m\u001b[0m\u001b[0m\n\u001b[0m",
      "\u001b[1;31mAttributeError\u001b[0m: 'list' object has no attribute 'split'"
     ]
    }
   ],
   "source": [
    "l.split('r')"
   ]
  },
  {
   "cell_type": "code",
   "execution_count": 100,
   "id": "f43e7add",
   "metadata": {},
   "outputs": [
    {
     "data": {
      "text/plain": [
       "'raji pavan sanvi seivi'"
      ]
     },
     "execution_count": 100,
     "metadata": {},
     "output_type": "execute_result"
    }
   ],
   "source": [
    "a"
   ]
  },
  {
   "cell_type": "code",
   "execution_count": 101,
   "id": "9ca544b6",
   "metadata": {},
   "outputs": [
    {
     "data": {
      "text/plain": [
       "['ra', 'i pavan sanvi seivi']"
      ]
     },
     "execution_count": 101,
     "metadata": {},
     "output_type": "execute_result"
    }
   ],
   "source": [
    "a.split('j')"
   ]
  },
  {
   "cell_type": "code",
   "execution_count": 102,
   "id": "5d53e5ac",
   "metadata": {},
   "outputs": [
    {
     "data": {
      "text/plain": [
       "['', 'aji pavan sanvi seivi']"
      ]
     },
     "execution_count": 102,
     "metadata": {},
     "output_type": "execute_result"
    }
   ],
   "source": [
    "a.split('r')"
   ]
  },
  {
   "cell_type": "code",
   "execution_count": 103,
   "id": "2bb7d314",
   "metadata": {},
   "outputs": [
    {
     "data": {
      "text/plain": [
       "['', '']"
      ]
     },
     "execution_count": 103,
     "metadata": {},
     "output_type": "execute_result"
    }
   ],
   "source": [
    "a.split(a)"
   ]
  },
  {
   "cell_type": "code",
   "execution_count": 104,
   "id": "1a421f5a",
   "metadata": {},
   "outputs": [
    {
     "data": {
      "text/plain": [
       "['r', 'ji p', 'v', 'n s', 'nvi seivi']"
      ]
     },
     "execution_count": 104,
     "metadata": {},
     "output_type": "execute_result"
    }
   ],
   "source": [
    "a.split('a')"
   ]
  },
  {
   "cell_type": "code",
   "execution_count": 105,
   "id": "f4da4d4a",
   "metadata": {},
   "outputs": [
    {
     "data": {
      "text/plain": [
       "['raji ', 'avan sanvi seivi']"
      ]
     },
     "execution_count": 105,
     "metadata": {},
     "output_type": "execute_result"
    }
   ],
   "source": [
    "a.split('p')"
   ]
  },
  {
   "cell_type": "code",
   "execution_count": 106,
   "id": "460d7fc8",
   "metadata": {},
   "outputs": [
    {
     "data": {
      "text/plain": [
       "['raji pa', 'an san', 'i sei', 'i']"
      ]
     },
     "execution_count": 106,
     "metadata": {},
     "output_type": "execute_result"
    }
   ],
   "source": [
    "a.split('v')"
   ]
  },
  {
   "cell_type": "code",
   "execution_count": 107,
   "id": "315a1839",
   "metadata": {},
   "outputs": [
    {
     "data": {
      "text/plain": [
       "['raji pava', ' sa', 'vi seivi']"
      ]
     },
     "execution_count": 107,
     "metadata": {},
     "output_type": "execute_result"
    }
   ],
   "source": [
    "a.split('n')"
   ]
  },
  {
   "cell_type": "code",
   "execution_count": 108,
   "id": "271f2fdb",
   "metadata": {},
   "outputs": [
    {
     "data": {
      "text/plain": [
       "['raj', ' pavan sanv', ' se', 'v', '']"
      ]
     },
     "execution_count": 108,
     "metadata": {},
     "output_type": "execute_result"
    }
   ],
   "source": [
    "a.split('i')"
   ]
  },
  {
   "cell_type": "code",
   "execution_count": 109,
   "id": "c686166c",
   "metadata": {},
   "outputs": [
    {
     "data": {
      "text/plain": [
       "['raji pavan sanvi s', 'ivi']"
      ]
     },
     "execution_count": 109,
     "metadata": {},
     "output_type": "execute_result"
    }
   ],
   "source": [
    "a.split('e')"
   ]
  },
  {
   "cell_type": "code",
   "execution_count": 110,
   "id": "0b04c384",
   "metadata": {},
   "outputs": [
    {
     "data": {
      "text/plain": [
       "['raji ', 'van sanvi seivi']"
      ]
     },
     "execution_count": 110,
     "metadata": {},
     "output_type": "execute_result"
    }
   ],
   "source": [
    "a.split('pa')"
   ]
  },
  {
   "cell_type": "code",
   "execution_count": 111,
   "id": "18822c81",
   "metadata": {},
   "outputs": [
    {
     "data": {
      "text/plain": [
       "['ra', ' pavan sanvi seivi']"
      ]
     },
     "execution_count": 111,
     "metadata": {},
     "output_type": "execute_result"
    }
   ],
   "source": [
    "a.split('ji')"
   ]
  },
  {
   "cell_type": "code",
   "execution_count": 112,
   "id": "7f50e5dd",
   "metadata": {},
   "outputs": [
    {
     "data": {
      "text/plain": [
       "['raji pavan sanvi seivi']"
      ]
     },
     "execution_count": 112,
     "metadata": {},
     "output_type": "execute_result"
    }
   ],
   "source": [
    "a.split('ij')"
   ]
  },
  {
   "cell_type": "code",
   "execution_count": 113,
   "id": "5d6bc4a0",
   "metadata": {},
   "outputs": [],
   "source": [
    "a=\"RAJESwARI\""
   ]
  },
  {
   "cell_type": "code",
   "execution_count": 114,
   "id": "fcfdbe14",
   "metadata": {},
   "outputs": [
    {
     "ename": "TypeError",
     "evalue": "str.capitalize() takes no arguments (1 given)",
     "output_type": "error",
     "traceback": [
      "\u001b[1;31m---------------------------------------------------------------------------\u001b[0m",
      "\u001b[1;31mTypeError\u001b[0m                                 Traceback (most recent call last)",
      "\u001b[1;32m~\\AppData\\Local\\Temp/ipykernel_13760/3461692699.py\u001b[0m in \u001b[0;36m<module>\u001b[1;34m\u001b[0m\n\u001b[1;32m----> 1\u001b[1;33m \u001b[0ma\u001b[0m\u001b[1;33m.\u001b[0m\u001b[0mcapitalize\u001b[0m\u001b[1;33m(\u001b[0m\u001b[1;34m'w'\u001b[0m\u001b[1;33m)\u001b[0m\u001b[1;33m\u001b[0m\u001b[1;33m\u001b[0m\u001b[0m\n\u001b[0m",
      "\u001b[1;31mTypeError\u001b[0m: str.capitalize() takes no arguments (1 given)"
     ]
    }
   ],
   "source": [
    "a.capitalize('w')"
   ]
  },
  {
   "cell_type": "code",
   "execution_count": 115,
   "id": "a12f1eb4",
   "metadata": {},
   "outputs": [
    {
     "data": {
      "text/plain": [
       "'RAJESwARI'"
      ]
     },
     "execution_count": 115,
     "metadata": {},
     "output_type": "execute_result"
    }
   ],
   "source": [
    "a"
   ]
  },
  {
   "cell_type": "code",
   "execution_count": 116,
   "id": "bfefd3ce",
   "metadata": {},
   "outputs": [
    {
     "data": {
      "text/plain": [
       "'RAJESWARI'"
      ]
     },
     "execution_count": 116,
     "metadata": {},
     "output_type": "execute_result"
    }
   ],
   "source": [
    "a.upper()"
   ]
  },
  {
   "cell_type": "code",
   "execution_count": 117,
   "id": "449997ab",
   "metadata": {},
   "outputs": [
    {
     "data": {
      "text/plain": [
       "'rajeswari'"
      ]
     },
     "execution_count": 117,
     "metadata": {},
     "output_type": "execute_result"
    }
   ],
   "source": [
    "a.lower()"
   ]
  },
  {
   "cell_type": "code",
   "execution_count": 118,
   "id": "a672744b",
   "metadata": {},
   "outputs": [
    {
     "data": {
      "text/plain": [
       "'rajesWari'"
      ]
     },
     "execution_count": 118,
     "metadata": {},
     "output_type": "execute_result"
    }
   ],
   "source": [
    "a.swapcase()"
   ]
  },
  {
   "cell_type": "code",
   "execution_count": 119,
   "id": "71eeb152",
   "metadata": {},
   "outputs": [],
   "source": [
    "b=\"sudha\""
   ]
  },
  {
   "cell_type": "code",
   "execution_count": 120,
   "id": "69d5d613",
   "metadata": {},
   "outputs": [
    {
     "data": {
      "text/plain": [
       "'SUDHA'"
      ]
     },
     "execution_count": 120,
     "metadata": {},
     "output_type": "execute_result"
    }
   ],
   "source": [
    "b.upper()"
   ]
  },
  {
   "cell_type": "code",
   "execution_count": 121,
   "id": "77650921",
   "metadata": {},
   "outputs": [
    {
     "ename": "AttributeError",
     "evalue": "'str' object has no attribute 'capital'",
     "output_type": "error",
     "traceback": [
      "\u001b[1;31m---------------------------------------------------------------------------\u001b[0m",
      "\u001b[1;31mAttributeError\u001b[0m                            Traceback (most recent call last)",
      "\u001b[1;32m~\\AppData\\Local\\Temp/ipykernel_13760/1254166676.py\u001b[0m in \u001b[0;36m<module>\u001b[1;34m\u001b[0m\n\u001b[1;32m----> 1\u001b[1;33m \u001b[0mb\u001b[0m\u001b[1;33m.\u001b[0m\u001b[0mcapital\u001b[0m\u001b[1;33m(\u001b[0m\u001b[1;33m)\u001b[0m\u001b[1;33m\u001b[0m\u001b[1;33m\u001b[0m\u001b[0m\n\u001b[0m",
      "\u001b[1;31mAttributeError\u001b[0m: 'str' object has no attribute 'capital'"
     ]
    }
   ],
   "source": [
    "b.capital()"
   ]
  },
  {
   "cell_type": "code",
   "execution_count": 122,
   "id": "c87c0014",
   "metadata": {},
   "outputs": [],
   "source": [
    "c='geetha'"
   ]
  },
  {
   "cell_type": "code",
   "execution_count": 123,
   "id": "5468c667",
   "metadata": {},
   "outputs": [
    {
     "data": {
      "text/plain": [
       "'Geetha'"
      ]
     },
     "execution_count": 123,
     "metadata": {},
     "output_type": "execute_result"
    }
   ],
   "source": [
    "c.title()"
   ]
  },
  {
   "cell_type": "code",
   "execution_count": 124,
   "id": "e462a0e2",
   "metadata": {},
   "outputs": [
    {
     "data": {
      "text/plain": [
       "'Geetha'"
      ]
     },
     "execution_count": 124,
     "metadata": {},
     "output_type": "execute_result"
    }
   ],
   "source": [
    "c.capitalize()"
   ]
  },
  {
   "cell_type": "code",
   "execution_count": 125,
   "id": "33bb5205",
   "metadata": {},
   "outputs": [],
   "source": [
    "b=\"geetha\""
   ]
  },
  {
   "cell_type": "code",
   "execution_count": 126,
   "id": "c7699d89",
   "metadata": {},
   "outputs": [],
   "source": [
    "c=\"madhuri\""
   ]
  },
  {
   "cell_type": "code",
   "execution_count": 127,
   "id": "b64bec70",
   "metadata": {},
   "outputs": [
    {
     "data": {
      "text/plain": [
       "'mgeethaageethadgeethahgeethaugeethargeethai'"
      ]
     },
     "execution_count": 127,
     "metadata": {},
     "output_type": "execute_result"
    }
   ],
   "source": [
    "b.join(c)"
   ]
  },
  {
   "cell_type": "code",
   "execution_count": 128,
   "id": "c43ed6c5",
   "metadata": {},
   "outputs": [
    {
     "data": {
      "text/plain": [
       "'gmadhuriemadhuriemadhuritmadhurihmadhuria'"
      ]
     },
     "execution_count": 128,
     "metadata": {},
     "output_type": "execute_result"
    }
   ],
   "source": [
    "c.join(b)"
   ]
  },
  {
   "cell_type": "code",
   "execution_count": 129,
   "id": "95f02b03",
   "metadata": {},
   "outputs": [
    {
     "data": {
      "text/plain": [
       "'r a j i'"
      ]
     },
     "execution_count": 129,
     "metadata": {},
     "output_type": "execute_result"
    }
   ],
   "source": [
    "\" \".join('raji')"
   ]
  },
  {
   "cell_type": "code",
   "execution_count": 130,
   "id": "47e3d7f1",
   "metadata": {},
   "outputs": [
    {
     "data": {
      "text/plain": [
       "<reversed at 0x18697ba49d0>"
      ]
     },
     "execution_count": 130,
     "metadata": {},
     "output_type": "execute_result"
    }
   ],
   "source": [
    "reversed(\"raji\")"
   ]
  },
  {
   "cell_type": "code",
   "execution_count": 131,
   "id": "61515aed",
   "metadata": {},
   "outputs": [
    {
     "name": "stdout",
     "output_type": "stream",
     "text": [
      "i\n",
      "j\n",
      "a\n",
      "r\n"
     ]
    }
   ],
   "source": [
    "for i in reversed ('raji'):\n",
    "    print(i)"
   ]
  },
  {
   "cell_type": "code",
   "execution_count": 132,
   "id": "1635decc",
   "metadata": {},
   "outputs": [
    {
     "ename": "SyntaxError",
     "evalue": "invalid syntax (Temp/ipykernel_13760/1553870155.py, line 1)",
     "output_type": "error",
     "traceback": [
      "\u001b[1;36m  File \u001b[1;32m\"C:\\Users\\91903\\AppData\\Local\\Temp/ipykernel_13760/1553870155.py\"\u001b[1;36m, line \u001b[1;32m1\u001b[0m\n\u001b[1;33m    for i in 'raji'\u001b[0m\n\u001b[1;37m                   ^\u001b[0m\n\u001b[1;31mSyntaxError\u001b[0m\u001b[1;31m:\u001b[0m invalid syntax\n"
     ]
    }
   ],
   "source": [
    "for i in 'raji'\n",
    "    print(i)"
   ]
  },
  {
   "cell_type": "code",
   "execution_count": 133,
   "id": "a0502335",
   "metadata": {},
   "outputs": [],
   "source": [
    "c=\"raji\""
   ]
  },
  {
   "cell_type": "code",
   "execution_count": 134,
   "id": "3a06e427",
   "metadata": {},
   "outputs": [
    {
     "data": {
      "text/plain": [
       "'ijar'"
      ]
     },
     "execution_count": 134,
     "metadata": {},
     "output_type": "execute_result"
    }
   ],
   "source": [
    "c[ : :-1]"
   ]
  },
  {
   "cell_type": "code",
   "execution_count": 135,
   "id": "73e50177",
   "metadata": {},
   "outputs": [],
   "source": [
    "c=\"  raji  \""
   ]
  },
  {
   "cell_type": "code",
   "execution_count": 136,
   "id": "bf47bcab",
   "metadata": {},
   "outputs": [
    {
     "data": {
      "text/plain": [
       "'  raji'"
      ]
     },
     "execution_count": 136,
     "metadata": {},
     "output_type": "execute_result"
    }
   ],
   "source": [
    "c.rstrip()"
   ]
  },
  {
   "cell_type": "code",
   "execution_count": 137,
   "id": "92819385",
   "metadata": {},
   "outputs": [
    {
     "data": {
      "text/plain": [
       "'raji  '"
      ]
     },
     "execution_count": 137,
     "metadata": {},
     "output_type": "execute_result"
    }
   ],
   "source": [
    "c.lstrip()"
   ]
  },
  {
   "cell_type": "code",
   "execution_count": 138,
   "id": "587b4159",
   "metadata": {},
   "outputs": [
    {
     "data": {
      "text/plain": [
       "'raji'"
      ]
     },
     "execution_count": 138,
     "metadata": {},
     "output_type": "execute_result"
    }
   ],
   "source": [
    "c.strip()"
   ]
  },
  {
   "cell_type": "code",
   "execution_count": 139,
   "id": "29948b11",
   "metadata": {},
   "outputs": [],
   "source": [
    "a = \"sanvi\""
   ]
  },
  {
   "cell_type": "code",
   "execution_count": 140,
   "id": "668b2657",
   "metadata": {},
   "outputs": [
    {
     "data": {
      "text/plain": [
       "'seivi'"
      ]
     },
     "execution_count": 140,
     "metadata": {},
     "output_type": "execute_result"
    }
   ],
   "source": [
    "a.replace(\"an\",\"ei\")"
   ]
  },
  {
   "cell_type": "code",
   "execution_count": 141,
   "id": "d593e3bc",
   "metadata": {},
   "outputs": [],
   "source": [
    "a = \"seivi\""
   ]
  },
  {
   "cell_type": "code",
   "execution_count": 142,
   "id": "1d8b40d9",
   "metadata": {},
   "outputs": [
    {
     "data": {
      "text/plain": [
       "'sanvi'"
      ]
     },
     "execution_count": 142,
     "metadata": {},
     "output_type": "execute_result"
    }
   ],
   "source": [
    "a.replace(\"ei\", \"an\")"
   ]
  },
  {
   "cell_type": "code",
   "execution_count": 143,
   "id": "635adb7e",
   "metadata": {},
   "outputs": [
    {
     "data": {
      "text/plain": [
       "'nagaseivi'"
      ]
     },
     "execution_count": 143,
     "metadata": {},
     "output_type": "execute_result"
    }
   ],
   "source": [
    "a.replace(\"s\",\"nagas\")"
   ]
  },
  {
   "cell_type": "code",
   "execution_count": 144,
   "id": "46c1eb5b",
   "metadata": {},
   "outputs": [
    {
     "data": {
      "text/plain": [
       "'nagasanvi'"
      ]
     },
     "execution_count": 144,
     "metadata": {},
     "output_type": "execute_result"
    }
   ],
   "source": [
    "a.replace(\"sei\",\"nagasan\")"
   ]
  },
  {
   "cell_type": "code",
   "execution_count": 149,
   "id": "14658e9b",
   "metadata": {},
   "outputs": [
    {
     "data": {
      "text/plain": [
       "'raja    rajeswari'"
      ]
     },
     "execution_count": 149,
     "metadata": {},
     "output_type": "execute_result"
    }
   ],
   "source": [
    "\"raja\\trajeswari\".expandtabs()"
   ]
  },
  {
   "cell_type": "code",
   "execution_count": 150,
   "id": "bf4a6fcc",
   "metadata": {},
   "outputs": [
    {
     "data": {
      "text/plain": [
       "'sanvi   seivi'"
      ]
     },
     "execution_count": 150,
     "metadata": {},
     "output_type": "execute_result"
    }
   ],
   "source": [
    "\"sanvi\\tseivi\".expandtabs()"
   ]
  },
  {
   "cell_type": "code",
   "execution_count": 151,
   "id": "86fae3f5",
   "metadata": {},
   "outputs": [],
   "source": [
    "s=\"seivi\""
   ]
  },
  {
   "cell_type": "code",
   "execution_count": 152,
   "id": "16cbda74",
   "metadata": {},
   "outputs": [
    {
     "data": {
      "text/plain": [
       "'tttttttttttttttttseivitttttttttttttttttt'"
      ]
     },
     "execution_count": 152,
     "metadata": {},
     "output_type": "execute_result"
    }
   ],
   "source": [
    "s.center(40, 't')"
   ]
  },
  {
   "cell_type": "code",
   "execution_count": 153,
   "id": "2e70cb01",
   "metadata": {},
   "outputs": [
    {
     "ename": "TypeError",
     "evalue": "The fill character must be exactly one character long",
     "output_type": "error",
     "traceback": [
      "\u001b[1;31m---------------------------------------------------------------------------\u001b[0m",
      "\u001b[1;31mTypeError\u001b[0m                                 Traceback (most recent call last)",
      "\u001b[1;32m~\\AppData\\Local\\Temp/ipykernel_13760/2381336154.py\u001b[0m in \u001b[0;36m<module>\u001b[1;34m\u001b[0m\n\u001b[1;32m----> 1\u001b[1;33m \u001b[0ms\u001b[0m\u001b[1;33m.\u001b[0m\u001b[0mcenter\u001b[0m\u001b[1;33m(\u001b[0m\u001b[1;36m2\u001b[0m\u001b[1;33m,\u001b[0m \u001b[1;34m'i love u'\u001b[0m\u001b[1;33m)\u001b[0m\u001b[1;33m\u001b[0m\u001b[1;33m\u001b[0m\u001b[0m\n\u001b[0m",
      "\u001b[1;31mTypeError\u001b[0m: The fill character must be exactly one character long"
     ]
    }
   ],
   "source": [
    "s.center(2, 'i love u')"
   ]
  },
  {
   "cell_type": "code",
   "execution_count": 154,
   "id": "7945b938",
   "metadata": {},
   "outputs": [
    {
     "data": {
      "text/plain": [
       "'kkkseivikkkk'"
      ]
     },
     "execution_count": 154,
     "metadata": {},
     "output_type": "execute_result"
    }
   ],
   "source": [
    "s.center(12,'k' )"
   ]
  },
  {
   "cell_type": "code",
   "execution_count": 155,
   "id": "74e94727",
   "metadata": {},
   "outputs": [
    {
     "data": {
      "text/plain": [
       "'aaaaaaaaaaaaaaaaaseiviaaaaaaaaaaaaaaaaaa'"
      ]
     },
     "execution_count": 155,
     "metadata": {},
     "output_type": "execute_result"
    }
   ],
   "source": [
    "s.center(40,'a')"
   ]
  },
  {
   "cell_type": "code",
   "execution_count": 156,
   "id": "62a43bb3",
   "metadata": {},
   "outputs": [
    {
     "data": {
      "text/plain": [
       "'######################seivi#######################'"
      ]
     },
     "execution_count": 156,
     "metadata": {},
     "output_type": "execute_result"
    }
   ],
   "source": [
    "s.center(50,'#')"
   ]
  },
  {
   "cell_type": "code",
   "execution_count": 157,
   "id": "625b0ca6",
   "metadata": {},
   "outputs": [],
   "source": [
    "b = \"    Indians are the best in the world    \""
   ]
  },
  {
   "cell_type": "code",
   "execution_count": 158,
   "id": "f57b09ae",
   "metadata": {},
   "outputs": [
    {
     "data": {
      "text/plain": [
       "'Indians are the best in the world'"
      ]
     },
     "execution_count": 158,
     "metadata": {},
     "output_type": "execute_result"
    }
   ],
   "source": [
    "b.strip()"
   ]
  },
  {
   "cell_type": "code",
   "execution_count": 159,
   "id": "07fe8843",
   "metadata": {},
   "outputs": [
    {
     "data": {
      "text/plain": [
       "'Indians are the best in the world'"
      ]
     },
     "execution_count": 159,
     "metadata": {},
     "output_type": "execute_result"
    }
   ],
   "source": [
    "b.lstrip()"
   ]
  },
  {
   "cell_type": "code",
   "execution_count": 160,
   "id": "0e380af5",
   "metadata": {},
   "outputs": [
    {
     "data": {
      "text/plain": [
       "'    Indians are the best in the world'"
      ]
     },
     "execution_count": 160,
     "metadata": {},
     "output_type": "execute_result"
    }
   ],
   "source": [
    "b.rstrip()"
   ]
  },
  {
   "cell_type": "code",
   "execution_count": 161,
   "id": "d5b23e20",
   "metadata": {},
   "outputs": [
    {
     "data": {
      "text/plain": [
       "'Indians are the best in the world'"
      ]
     },
     "execution_count": 161,
     "metadata": {},
     "output_type": "execute_result"
    }
   ],
   "source": [
    "b.lstrip()"
   ]
  },
  {
   "cell_type": "code",
   "execution_count": 162,
   "id": "e635f447",
   "metadata": {},
   "outputs": [],
   "source": [
    "b = \"    Indians are the best in the world    \""
   ]
  },
  {
   "cell_type": "code",
   "execution_count": 163,
   "id": "f4dd0a8c",
   "metadata": {},
   "outputs": [
    {
     "data": {
      "text/plain": [
       "'Indians are the best in the world    '"
      ]
     },
     "execution_count": 163,
     "metadata": {},
     "output_type": "execute_result"
    }
   ],
   "source": [
    "b.lstrip()"
   ]
  },
  {
   "cell_type": "code",
   "execution_count": null,
   "id": "bf490149",
   "metadata": {},
   "outputs": [],
   "source": [
    "good bye for today."
   ]
  }
 ],
 "metadata": {
  "kernelspec": {
   "display_name": "Python 3 (ipykernel)",
   "language": "python",
   "name": "python3"
  },
  "language_info": {
   "codemirror_mode": {
    "name": "ipython",
    "version": 3
   },
   "file_extension": ".py",
   "mimetype": "text/x-python",
   "name": "python",
   "nbconvert_exporter": "python",
   "pygments_lexer": "ipython3",
   "version": "3.9.7"
  }
 },
 "nbformat": 4,
 "nbformat_minor": 5
}
